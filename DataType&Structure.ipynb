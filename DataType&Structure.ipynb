{
  "nbformat": 4,
  "nbformat_minor": 0,
  "metadata": {
    "colab": {
      "provenance": []
    },
    "kernelspec": {
      "name": "python3",
      "display_name": "Python 3"
    },
    "language_info": {
      "name": "python"
    }
  },
  "cells": [
    {
      "cell_type": "markdown",
      "source": [
        "# Data Type & Structure Assignment"
      ],
      "metadata": {
        "id": "BtG9Y6ePOC5v"
      }
    },
    {
      "cell_type": "code",
      "source": [
        "#1 Write a code to create a string with your name and print it?\n",
        "my_name = \"krushna\"  # Replace \"krushna\" with your actual name if you'd like\n",
        "\n",
        "print(my_name)"
      ],
      "metadata": {
        "id": "qOpojJWca7o7",
        "colab": {
          "base_uri": "https://localhost:8080/"
        },
        "outputId": "4a793666-893f-403a-d76e-9f989b0f26a3"
      },
      "execution_count": null,
      "outputs": [
        {
          "output_type": "stream",
          "name": "stdout",
          "text": [
            "krushna\n"
          ]
        }
      ]
    },
    {
      "cell_type": "code",
      "source": [
        "#2 Write a code to find the length of the string \"Hello World\"?\n",
        "my_string = \"Hello World\"\n",
        "string_length = len(my_string)\n",
        "\n",
        "print(string_length)  # Output: 11"
      ],
      "metadata": {
        "colab": {
          "base_uri": "https://localhost:8080/"
        },
        "id": "s8gwfsYhgA6I",
        "outputId": "bec6ca90-6b92-41d7-e5eb-8035d4ffee9c"
      },
      "execution_count": null,
      "outputs": [
        {
          "output_type": "stream",
          "name": "stdout",
          "text": [
            "11\n"
          ]
        }
      ]
    },
    {
      "cell_type": "code",
      "source": [
        "#3 Write a code to slice the first 3 characters from the string \"Python Programming\"?\n",
        "my_string = \"Python Programming\"\n",
        "sliced_string = my_string[:3]\n",
        "\n",
        "print(sliced_string)  # Output: Pyt"
      ],
      "metadata": {
        "colab": {
          "base_uri": "https://localhost:8080/"
        },
        "id": "9TjKB5iFgd7w",
        "outputId": "cdd2878d-50d1-4319-9fb6-853709483fa0"
      },
      "execution_count": null,
      "outputs": [
        {
          "output_type": "stream",
          "name": "stdout",
          "text": [
            "Pyt\n"
          ]
        }
      ]
    },
    {
      "cell_type": "code",
      "source": [
        "#4 Write a code to convert the string \"hello\" to uppercase?\n",
        "my_string = \"hello\"\n",
        "uppercase_string = my_string.upper()\n",
        "\n",
        "print(uppercase_string)  # Output: HELLO"
      ],
      "metadata": {
        "colab": {
          "base_uri": "https://localhost:8080/"
        },
        "id": "s4JA3186g9It",
        "outputId": "9fc06d5d-fa3a-4519-c427-3e69abacf0ad"
      },
      "execution_count": null,
      "outputs": [
        {
          "output_type": "stream",
          "name": "stdout",
          "text": [
            "HELLO\n"
          ]
        }
      ]
    },
    {
      "cell_type": "code",
      "source": [
        "#5 Write a code to replace the word \"apple\" with \"orange\" in the string \"I like apple\"?\n",
        "my_string = \"I like apple\"\n",
        "new_string = my_string.replace(\"apple\", \"orange\")\n",
        "\n",
        "print(new_string)  # Output: I like orange"
      ],
      "metadata": {
        "colab": {
          "base_uri": "https://localhost:8080/"
        },
        "id": "8eLVnkHKhUMt",
        "outputId": "fc09747c-79f1-412d-ed62-b1a1941694d8"
      },
      "execution_count": null,
      "outputs": [
        {
          "output_type": "stream",
          "name": "stdout",
          "text": [
            "I like orange\n"
          ]
        }
      ]
    },
    {
      "cell_type": "code",
      "source": [
        "#6 Write a code to create a list with numbers 1 to 5 and print it?\n",
        "my_list = [1, 2, 3, 4, 5]\n",
        "print(my_list)  # Output: [1, 2, 3, 4, 5]"
      ],
      "metadata": {
        "colab": {
          "base_uri": "https://localhost:8080/"
        },
        "id": "27Jgq7hVh5FP",
        "outputId": "4a0f779f-f514-444b-b505-876bd463b357"
      },
      "execution_count": null,
      "outputs": [
        {
          "output_type": "stream",
          "name": "stdout",
          "text": [
            "[1, 2, 3, 4, 5]\n"
          ]
        }
      ]
    },
    {
      "cell_type": "code",
      "source": [
        "#7 Write a code to append the number 10 to the list [1, 2, 3, 4]?\n",
        "my_list = [1, 2, 3, 4]\n",
        "my_list.append(10)\n",
        "\n",
        "print(my_list)  # Output: [1, 2, 3, 4, 10]"
      ],
      "metadata": {
        "colab": {
          "base_uri": "https://localhost:8080/"
        },
        "id": "xvn6atKyiRug",
        "outputId": "cc15440d-2657-450f-850a-55c70049d19d"
      },
      "execution_count": null,
      "outputs": [
        {
          "output_type": "stream",
          "name": "stdout",
          "text": [
            "[1, 2, 3, 4, 10]\n"
          ]
        }
      ]
    },
    {
      "cell_type": "code",
      "source": [
        "#8 Write a code to remove the number 3 from the list [1, 2, 3, 4, 5]?\n",
        "my_list = [1, 2, 3, 4, 5]\n",
        "my_list.remove(3)\n",
        "\n",
        "print(my_list)  # Output: [1, 2, 4, 5]"
      ],
      "metadata": {
        "colab": {
          "base_uri": "https://localhost:8080/"
        },
        "id": "UWY8bRWEi8NM",
        "outputId": "dddddd55-bbce-44ef-8b33-3988a59fdbc4"
      },
      "execution_count": null,
      "outputs": [
        {
          "output_type": "stream",
          "name": "stdout",
          "text": [
            "[1, 2, 4, 5]\n"
          ]
        }
      ]
    },
    {
      "cell_type": "code",
      "source": [
        "#9 Write a code to access the second element in the list ['a', 'b', 'c', 'd']?\n",
        "my_list = ['a', 'b', 'c', 'd']\n",
        "second_element = my_list[1]  # List indices start at 0\n",
        "\n",
        "print(second_element)  # Output: b"
      ],
      "metadata": {
        "colab": {
          "base_uri": "https://localhost:8080/"
        },
        "id": "Hs9AAdjhjafo",
        "outputId": "f1177136-4905-447d-f31a-ed5193c34a62"
      },
      "execution_count": null,
      "outputs": [
        {
          "output_type": "stream",
          "name": "stdout",
          "text": [
            "b\n"
          ]
        }
      ]
    },
    {
      "cell_type": "code",
      "source": [
        "#10 Write a code to reverse the list [10, 20, 30, 40, 50]?\n",
        "my_list = [10, 20, 30, 40, 50]\n",
        "my_list.reverse()\n",
        "\n",
        "print(my_list)  # Output: [50, 40, 30, 20, 10]"
      ],
      "metadata": {
        "colab": {
          "base_uri": "https://localhost:8080/"
        },
        "id": "48jMbwORjwOj",
        "outputId": "5ff0a592-0a68-4a32-cad9-b1fa13e39c5a"
      },
      "execution_count": null,
      "outputs": [
        {
          "output_type": "stream",
          "name": "stdout",
          "text": [
            "[50, 40, 30, 20, 10]\n"
          ]
        }
      ]
    },
    {
      "cell_type": "code",
      "source": [
        "#11  Write a code to create a tuple with the elements 100, 200, 300 and print it.?\n",
        "my_tuple = (100, 200, 300)\n",
        "print(my_tuple)  # Output: (100, 200, 300)"
      ],
      "metadata": {
        "id": "woJUGGdxkb_A",
        "colab": {
          "base_uri": "https://localhost:8080/"
        },
        "outputId": "d2eea857-ee3f-4214-8a6c-a2bed281c2f3"
      },
      "execution_count": null,
      "outputs": [
        {
          "output_type": "stream",
          "name": "stdout",
          "text": [
            "(100, 200, 300)\n"
          ]
        }
      ]
    },
    {
      "cell_type": "code",
      "source": [
        "#12  Write a code to access the second-to-last element of the tuple ('red', 'green', 'blue', 'yellow').?\n",
        "my_tuple = ('red', 'green', 'blue', 'yellow')\n",
        "second_to_last = my_tuple[-2]\n",
        "\n",
        "print(second_to_last)  # Output: blue"
      ],
      "metadata": {
        "colab": {
          "base_uri": "https://localhost:8080/"
        },
        "id": "0UarcaD_wFnP",
        "outputId": "133a78c0-9333-4198-f652-41afef5b2db9"
      },
      "execution_count": null,
      "outputs": [
        {
          "output_type": "stream",
          "name": "stdout",
          "text": [
            "blue\n"
          ]
        }
      ]
    },
    {
      "cell_type": "code",
      "source": [
        "#13 Write a code to find the minimum number in the tuple (10, 20, 5, 15).?\n",
        "my_tuple = (10, 20, 5, 15)\n",
        "minimum_number = min(my_tuple)\n",
        "\n",
        "print(minimum_number)  # Output: 5"
      ],
      "metadata": {
        "colab": {
          "base_uri": "https://localhost:8080/"
        },
        "id": "9b0h9B8bwg_P",
        "outputId": "39fcbdd3-6297-44bb-d96f-fc1ba78663f2"
      },
      "execution_count": null,
      "outputs": [
        {
          "output_type": "stream",
          "name": "stdout",
          "text": [
            "5\n"
          ]
        }
      ]
    },
    {
      "cell_type": "code",
      "source": [
        "#14  Write a code to find the index of the element \"cat\" in the tuple ('dog', 'cat', 'rabbit').\n",
        "my_tuple = ('dog', 'cat', 'rabbit')\n",
        "index_of_cat = my_tuple.index('cat')\n",
        "\n",
        "print(index_of_cat)  # Output: 1"
      ],
      "metadata": {
        "colab": {
          "base_uri": "https://localhost:8080/"
        },
        "id": "oSjY-cyDw5Bb",
        "outputId": "1fb14200-e140-4337-9bbe-f30e30bc2c4b"
      },
      "execution_count": null,
      "outputs": [
        {
          "output_type": "stream",
          "name": "stdout",
          "text": [
            "1\n"
          ]
        }
      ]
    },
    {
      "cell_type": "code",
      "source": [
        "#15  Write a code to create a tuple containing three different fruits and check if \"kiwi\" is in it?\n",
        "my_tuple = ('apple', 'banana', 'orange')\n",
        "\n",
        "is_kiwi_present = 'kiwi' in my_tuple\n",
        "\n",
        "print(is_kiwi_present)  # Output: False\n",
        "\n",
        "# Or, for a more descriptive output:\n",
        "if 'kiwi' in my_tuple:\n",
        "    print(\"Kiwi is in the tuple.\")\n",
        "else:\n",
        "    print(\"Kiwi is not in the tuple.\")  # This will be printed"
      ],
      "metadata": {
        "colab": {
          "base_uri": "https://localhost:8080/"
        },
        "id": "bqbpy5LYxYgD",
        "outputId": "4dddea23-db90-4653-befd-b79dcf68be09"
      },
      "execution_count": null,
      "outputs": [
        {
          "output_type": "stream",
          "name": "stdout",
          "text": [
            "False\n",
            "Kiwi is not in the tuple.\n"
          ]
        }
      ]
    },
    {
      "cell_type": "code",
      "source": [
        "#16  Write a code to create a set with the elements 'a', 'b', 'c' and print it?\n",
        "my_set = {'a', 'b', 'c'}\n",
        "print(my_set)  # Output: {'a', 'b', 'c'} (order may vary)"
      ],
      "metadata": {
        "colab": {
          "base_uri": "https://localhost:8080/"
        },
        "id": "ZAsNnRS9x7sl",
        "outputId": "6716b507-3613-4810-f201-c273b98c15cc"
      },
      "execution_count": null,
      "outputs": [
        {
          "output_type": "stream",
          "name": "stdout",
          "text": [
            "{'b', 'a', 'c'}\n"
          ]
        }
      ]
    },
    {
      "cell_type": "code",
      "source": [
        "#17  Write a code to clear all elements from the set {1, 2, 3, 4, 5}.?\n",
        "my_set = {1, 2, 3, 4, 5}\n",
        "my_set.clear()\n",
        "\n",
        "print(my_set)  # Output: set()"
      ],
      "metadata": {
        "colab": {
          "base_uri": "https://localhost:8080/"
        },
        "id": "z-PYrjjwyS91",
        "outputId": "8dfc989d-5d6c-4b6e-b64f-a8bd37d5dd6e"
      },
      "execution_count": null,
      "outputs": [
        {
          "output_type": "stream",
          "name": "stdout",
          "text": [
            "set()\n"
          ]
        }
      ]
    },
    {
      "cell_type": "code",
      "source": [
        "#18  Write a code to remove the element 4 from the set {1, 2, 3, 4}?\n",
        "my_set = {1, 2, 3, 4}\n",
        "\n",
        "# Method 1: Using remove()\n",
        "my_set.remove(4)\n",
        "print(my_set)  # Output: {1, 2, 3}"
      ],
      "metadata": {
        "colab": {
          "base_uri": "https://localhost:8080/"
        },
        "id": "JiCNu4HKyo89",
        "outputId": "652937c2-954e-4f96-81b0-0058618f1d83"
      },
      "execution_count": null,
      "outputs": [
        {
          "output_type": "stream",
          "name": "stdout",
          "text": [
            "{1, 2, 3}\n"
          ]
        }
      ]
    },
    {
      "cell_type": "code",
      "source": [
        "#19  Write a code to find the union of two sets {1, 2, 3} and {3, 4, 5}.?\n",
        "set1 = {1, 2, 3}\n",
        "set2 = {3, 4, 5}\n",
        "\n",
        "# Method 1: Using the union() method\n",
        "union_set = set1.union(set2)\n",
        "print(union_set)  # Output: {1, 2, 3, 4, 5}"
      ],
      "metadata": {
        "colab": {
          "base_uri": "https://localhost:8080/"
        },
        "id": "tdflpdozzNHO",
        "outputId": "9d24938d-f8bb-4c08-ba9d-4c0626a7afc7"
      },
      "execution_count": null,
      "outputs": [
        {
          "output_type": "stream",
          "name": "stdout",
          "text": [
            "{1, 2, 3, 4, 5}\n"
          ]
        }
      ]
    },
    {
      "cell_type": "code",
      "source": [
        "#20 Write a code to find the intersection of two sets {1, 2, 3} and {2, 3, 4}?\n",
        "set1 = {1, 2, 3}\n",
        "set2 = {2, 3, 4}\n",
        "\n",
        "# Method 1: Using the intersection() method\n",
        "intersection_set = set1.intersection(set2)\n",
        "print(intersection_set)  # Output: {2, 3}"
      ],
      "metadata": {
        "colab": {
          "base_uri": "https://localhost:8080/"
        },
        "id": "EEjfZVhAzzyF",
        "outputId": "a2743ad2-e6c5-4f5f-d03d-689a3877f547"
      },
      "execution_count": null,
      "outputs": [
        {
          "output_type": "stream",
          "name": "stdout",
          "text": [
            "{2, 3}\n"
          ]
        }
      ]
    },
    {
      "cell_type": "code",
      "source": [
        "#21  Write a code to create a dictionary with the keys \"name\", \"age\", and \"city\", and print it.?\n",
        "my_dict = {\"name\": \"krushna\", \"age\": 28, \"city\": \"dhule\"}  # Example values\n",
        "\n",
        "print(my_dict)  # Output: {'name': 'krushna', 'age': 28, 'city': 'dhule'}"
      ],
      "metadata": {
        "colab": {
          "base_uri": "https://localhost:8080/"
        },
        "id": "hzoNHKQK0Zcq",
        "outputId": "cac14cfd-bef8-4a42-a322-46d7c55254d7"
      },
      "execution_count": null,
      "outputs": [
        {
          "output_type": "stream",
          "name": "stdout",
          "text": [
            "{'name': 'krushna', 'age': 28, 'city': 'dhule'}\n"
          ]
        }
      ]
    },
    {
      "cell_type": "code",
      "source": [
        "#22  Write a code to add a new key-value pair \"country\": \"USA\" to the dictionary {'name': 'John', 'age': 25}.\n",
        "my_dict = {'name': 'John', 'age': 25}\n",
        "\n",
        "# Method 1: Direct assignment\n",
        "my_dict['country'] = 'USA'\n",
        "print(my_dict)  # Output: {'name': 'John', 'age': 25, 'country': 'USA'}"
      ],
      "metadata": {
        "colab": {
          "base_uri": "https://localhost:8080/"
        },
        "id": "Q8vzr0oO2xZi",
        "outputId": "6a69eee0-7149-4079-9d4c-485badbdef33"
      },
      "execution_count": null,
      "outputs": [
        {
          "output_type": "stream",
          "name": "stdout",
          "text": [
            "{'name': 'John', 'age': 25, 'country': 'USA'}\n"
          ]
        }
      ]
    },
    {
      "cell_type": "code",
      "source": [
        "#23 Write a code to access the value associated with the key \"name\" in the dictionary {'name': 'Alice', 'age': 30}.?\n",
        "my_dict = {'name': 'Alice', 'age': 30}\n",
        "\n",
        "name = my_dict['name']\n",
        "\n",
        "print(name)  # Output: Alice"
      ],
      "metadata": {
        "colab": {
          "base_uri": "https://localhost:8080/"
        },
        "id": "03duriLT3bo1",
        "outputId": "4817c3b2-a7a6-4f96-b807-cf209ade8eae"
      },
      "execution_count": null,
      "outputs": [
        {
          "output_type": "stream",
          "name": "stdout",
          "text": [
            "Alice\n"
          ]
        }
      ]
    },
    {
      "cell_type": "code",
      "source": [
        "#24  Write a code to remove the key \"age\" from the dictionary {'name': 'Bob', 'age': 22, 'city': 'New York'}.?\n",
        "my_dict = {'name': 'Bob', 'age': 22, 'city': 'New York'}\n",
        "\n",
        "# Method 1: Using del\n",
        "del my_dict['age']\n",
        "print(my_dict)  # Output: {'name': 'Bob', 'city': 'New York'}"
      ],
      "metadata": {
        "colab": {
          "base_uri": "https://localhost:8080/"
        },
        "id": "mUMM0d1S35N4",
        "outputId": "c41c5550-5b9c-44fb-be7b-cc3d661f51ae"
      },
      "execution_count": null,
      "outputs": [
        {
          "output_type": "stream",
          "name": "stdout",
          "text": [
            "{'name': 'Bob', 'city': 'New York'}\n"
          ]
        }
      ]
    },
    {
      "cell_type": "code",
      "source": [
        "#25  Write a code to check if the key \"city\" exists in the dictionary {'name': 'Alice', 'city': 'Paris'}.?\n",
        "my_dict = {'name': 'Alice', 'city': 'Paris'}\n",
        "\n",
        "# Method 1: Using the \"in\" operator (preferred)\n",
        "if 'city' in my_dict:\n",
        "    print(\"The key 'city' exists in the dictionary.\")\n",
        "else:\n",
        "    print(\"The key 'city' does not exist in the dictionary.\")  # This won't be printed in this case"
      ],
      "metadata": {
        "colab": {
          "base_uri": "https://localhost:8080/"
        },
        "id": "9o2pvxHQ4a9U",
        "outputId": "644c9b46-bee8-4e51-d98e-ceaae0ac45f0"
      },
      "execution_count": null,
      "outputs": [
        {
          "output_type": "stream",
          "name": "stdout",
          "text": [
            "The key 'city' exists in the dictionary.\n"
          ]
        }
      ]
    },
    {
      "cell_type": "code",
      "source": [
        "#26  Write a code to create a list, a tuple, and a dictionary, and print them all.?\n",
        "# Create a list\n",
        "my_list = [1, 2, 3, \"apple\", \"banana\"]\n",
        "\n",
        "# Create a tuple\n",
        "my_tuple = (10, 20, 30, \"red\", \"green\")\n",
        "\n",
        "# Create a dictionary\n",
        "my_dict = {\"name\": \"Alice\", \"age\": 30, \"city\": \"New York\"}\n",
        "\n",
        "# Print the list\n",
        "print(\"List:\", my_list)\n",
        "\n",
        "# Print the tuple\n",
        "print(\"Tuple:\", my_tuple)\n",
        "\n",
        "# Print the dictionary\n",
        "print(\"Dictionary:\", my_dict)"
      ],
      "metadata": {
        "colab": {
          "base_uri": "https://localhost:8080/"
        },
        "id": "gCYE9XRf47pc",
        "outputId": "9a9cc28f-4897-4b13-ea53-cb6b3a89580b"
      },
      "execution_count": null,
      "outputs": [
        {
          "output_type": "stream",
          "name": "stdout",
          "text": [
            "List: [1, 2, 3, 'apple', 'banana']\n",
            "Tuple: (10, 20, 30, 'red', 'green')\n",
            "Dictionary: {'name': 'Alice', 'age': 30, 'city': 'New York'}\n"
          ]
        }
      ]
    },
    {
      "cell_type": "code",
      "source": [
        "#27  Write a code to create a list of 5 random numbers between 1 and 100, sort it in ascending order, and print the result.(replaced)\n",
        "\n",
        "import random\n",
        "\n",
        "# Method 1: Using a loop and append()\n",
        "random_numbers = []\n",
        "for _ in range(5):  # _ is used as a placeholder since we don't need the loop variable\n",
        "    random_numbers.append(random.randint(1, 100))\n",
        "\n",
        "random_numbers.sort()  # Sorts the list in place (ascending order is the default)\n",
        "print(\"Sorted list (Method 1):\", random_numbers)"
      ],
      "metadata": {
        "colab": {
          "base_uri": "https://localhost:8080/"
        },
        "id": "D7XZEUio5dEM",
        "outputId": "15ac8812-0e05-49e9-c1ab-8f6cad2aaa0c"
      },
      "execution_count": null,
      "outputs": [
        {
          "output_type": "stream",
          "name": "stdout",
          "text": [
            "Sorted list (Method 1): [5, 29, 39, 61, 92]\n"
          ]
        }
      ]
    },
    {
      "cell_type": "code",
      "source": [
        "#28 Write a code to create a list with strings and print the element at the third index.?\n",
        "my_list = [\"apple\", \"banana\", \"cherry\", \"date\", \"elderberry\"]\n",
        "\n",
        "# Accessing the element at the third index (index 2)\n",
        "third_element = my_list[2]\n",
        "\n",
        "print(third_element)  # Output: cherry"
      ],
      "metadata": {
        "id": "VsqgqB6C6jk5",
        "colab": {
          "base_uri": "https://localhost:8080/"
        },
        "outputId": "55b726e3-4c8b-4de1-96f1-e75eb8f5df56"
      },
      "execution_count": 32,
      "outputs": [
        {
          "output_type": "stream",
          "name": "stdout",
          "text": [
            "cherry\n"
          ]
        }
      ]
    },
    {
      "cell_type": "code",
      "source": [
        "#29  Write a code to combine two dictionaries into one and print the result.?\n",
        "dict1 = {'a': 1, 'b': 2}\n",
        "dict2 = {'c': 3, 'd': 4}\n",
        "\n",
        "# Method 1: Using the update() method (modifies dict1)\n",
        "dict1.update(dict2)\n",
        "print(\"Combined dictionary (Method 1):\", dict1)  # Output: {'a': 1, 'b': 2, 'c': 3, 'd': 4}"
      ],
      "metadata": {
        "colab": {
          "base_uri": "https://localhost:8080/"
        },
        "id": "qntoOSJPdrQY",
        "outputId": "e58a1931-4ac0-439b-ce49-f67cdf15d702"
      },
      "execution_count": 33,
      "outputs": [
        {
          "output_type": "stream",
          "name": "stdout",
          "text": [
            "Combined dictionary (Method 1): {'a': 1, 'b': 2, 'c': 3, 'd': 4}\n"
          ]
        }
      ]
    },
    {
      "cell_type": "code",
      "source": [
        "#30  Write a code to convert a list of strings into a set.?\n",
        "my_list = [\"apple\", \"banana\", \"cherry\", \"apple\", \"date\"]  # Example list with a duplicate\n",
        "\n",
        "# Method 1: Using the set() constructor\n",
        "my_set = set(my_list)\n",
        "print(my_set)  # Output: {'apple', 'banana', 'cherry', 'date'} (order may vary)"
      ],
      "metadata": {
        "colab": {
          "base_uri": "https://localhost:8080/"
        },
        "id": "lIEWVsJ3eau6",
        "outputId": "e393b6da-1f62-4e18-b9ea-a3fbe37d1db5"
      },
      "execution_count": 34,
      "outputs": [
        {
          "output_type": "stream",
          "name": "stdout",
          "text": [
            "{'date', 'banana', 'cherry', 'apple'}\n"
          ]
        }
      ]
    },
    {
      "cell_type": "markdown",
      "source": [
        "1.  What are data structures, and why are they important?\n",
        "   - Data structures are fundamental building blocks in computer science that\n",
        "     organize and store data in a way that enables efficient access and manipulation.\n",
        "     They are essential for creating effective algorithms and software applications.\n",
        "   - Importance of Data Structures:\n",
        "\n",
        "   - Efficiency: Data structures are designed to optimize data storage and\n",
        "     retrieval. Choosing the right data structure can significantly impact the performance of your programs, especially when dealing with large datasets.\n",
        "     \n",
        "    -  Organization: Data structures provide a way to organize data logically,\n",
        "       making it easier to understand and manage. This is crucial for developing complex applications where data needs to be accessed and processed in specific ways.\n",
        "\n",
        "     - Reusability: Many common data structures, such as arrays, linked lists,\n",
        "        and trees, are well-established and can be reused in various applications. This saves development time and ensures that your code is efficient and reliable.\n",
        "\n",
        "    -  Abstraction: Data structures provide an abstract view of data, hiding  \n",
        "       the\n",
        "       underlying implementation details. This allows developers to focus on the logic of their programs rather than the intricacies of data storage.  \n",
        "\n",
        "    -  Problem Solving: Different data structures are suited for different  \n",
        "       types\n",
        "       of problems. Choosing the appropriate data structure can simplify problem-solving and lead to more elegant solutions\n",
        "\n",
        "2.  Explain the difference between mutable and immutable data types with\n",
        "    examples?\n",
        "    \n",
        "    - In programming, data types can be categorized as either mutable or\n",
        "      immutable, depending on whether their values can be changed after they are created.  \n",
        "         \n",
        "     - Mutable Data Types:\n",
        "\n",
        "     - Definition: Mutable data types are those whose values can be modified\n",
        "       after they are created. This means that you can change the contents of a mutable object directly without creating a new object.\n",
        "     \n",
        "     - Examples:\n",
        "     \n",
        "     - Lists: Lists are ordered collections of items, and you can modify them  \n",
        "       by\n",
        "       adding, removing, or changing elements.\n",
        "     \n",
        "     - my_list = [1, 2, 3]\n",
        "       my_list.append(4)  # Adds 4 to the end of the list\n",
        "       my_list[0] = 10  # Changes the first element to 10\n",
        "       print(my_list)  # Output: [10, 2, 3, 4]\n",
        "     \n",
        "     - Dictionaries: Dictionaries store data in key-value pairs, and you can\n",
        "       modify them by adding, removing, or updating entries.  \n",
        "     \n",
        "     - my_dict = {\"a\": 1, \"b\": 2}\n",
        "       my_dict[\"c\"] = 3  # Adds a new key-value pair\n",
        "       my_dict[\"a\"] = 10  # Updates the value associated with key \"a\"\n",
        "       print(my_dict)  # Output: {'a': 10, 'b': 2, 'c': 3}\n",
        "     \n",
        "     - Sets: Sets are unordered collections of unique items, and you can modify\n",
        "       them by adding or removing elements.\n",
        "\n",
        "     -  my_set = {1, 2, 3}\n",
        "       my_set.add(4)  # Adds 4 to the set\n",
        "       my_set.remove(2)  # Removes 2 from the set\n",
        "       print(my_set)  # Output: {1, 3, 4}\n",
        "     \n",
        "     -  Immutable Data Types:\n",
        "\n",
        "     -  Definition: Immutable data types are those whose values cannot be\n",
        "        changed after they are created. If you want to modify an immutable object, you need to create a new object with the desired changes.\n",
        "\n",
        "     - Examples: Numbers: Integers, floating-point numbers, and complex numbers  are immutable.\n",
        "    \n",
        "     - x = 10\n",
        "       x = x + 5  # Creates a new object with the value 15\n",
        "       print(x)  # Output: 15   \n",
        "     \n",
        "     - Strings: Strings are sequences of characters, and you cannot modify them\n",
        "       directly.\n",
        "     \n",
        "     - my_string = \"hello\"\n",
        "       # my_string[0] = \"H\"  # This will cause an error because strings are immutable\n",
        "       new_string = my_string.upper()  # Creates a new string with the value \"HELLO\"\n",
        "        print(new_string)  # Output: HELLO\n",
        "      \n",
        "      - Tuples: Tuples are ordered collections of items, similar to lists, but\n",
        "        they are immutable.\n",
        "      \n",
        "      - my_tuple = (1, 2, 3)\n",
        "        # my_tuple[0] = 10  # This will cause an error because tuples are immutable\n",
        "        new_tuple = my_tuple + (4,)  # Creates a new tuple with the value (1, 2, 3, 4)\n",
        "        print(new_tuple)  # Output: (1, 2, 3, 4)\n",
        "3.  What are the main differences between lists and tuples in Python?        \n",
        "  \n",
        "  -  Lists and tuples are both fundamental sequence types in Python, used to\n",
        "     store collections of items. However, they have some key differences that make them suitable for different situations:\n",
        "   -  Mutability:\n",
        "\n",
        "   -  Lists: Lists are mutable, meaning you can change their contents after  \n",
        "      they are created. You can add, remove, or modify elements within a list.  \n",
        "  -  Tuples: Tuples are immutable,1 meaning their contents cannot be changed\n",
        "      after they are created. Once a tuple is defined, you cannot add, remove, or modify its elements. This is the most significant difference.\n",
        "\n",
        "   -   Syntax:\n",
        "\n",
        "   -  Lists: Lists are defined using square brackets []: my_list = [1, 2, 3]\n",
        "\n",
        "   - Tuples: Tuples are defined using parentheses (): my_tuple = (1, 2, 3) (Parentheses are optional in some cases, but it's good practice to include them for clarity, especially when creating a tuple with a single element: my_tuple = (5,))\n",
        "\n",
        "  - Performance:\n",
        "\n",
        "  -  Lists: Lists have a slight overhead due to their mutability. Operations\n",
        "      like appending or inserting elements can be a bit slower compared to tuples.\n",
        "\n",
        "    -  Tuples: Tuples are generally more memory-efficient and faster to iterate\n",
        "       over than lists. Their immutability allows for some optimizations.\n",
        "\n",
        "    - Use Cases:\n",
        "\n",
        "    - Lists: Lists are used when you need a collection of items that might need\n",
        "      to be modified. Examples include storing a list of items in a shopping cart, managing a queue of tasks, etc.\n",
        "\n",
        "     - Tuples: Tuples are used when you have a collection of items that should\n",
        "       not be changed. Examples include representing a record with fixed fields (like coordinates (x, y)), returning multiple values from a function, or using as keys in a dictionary (because dictionary keys must be immutable).\n",
        "\n",
        "      - Methods:\n",
        "\n",
        "      - Lists: Lists have many built-in methods for manipulating their elements (e.g., append(), insert(), remove(), sort()).\n",
        "\n",
        "      - Tuples: Tuples have fewer built-in methods because they cannot be modified. They primarily support operations like indexing and slicing.\n",
        "\n",
        "4.  Describe how dictionaries store dataP Describe how dictionaries store   \n",
        "     data?\n",
        "   - Dictionaries in Python store data in key-value pairs. This means that each piece of data is associated with a unique identifier, called a \"key\". Think of it like a real-world dictionary where you look up a word (the key) to find its definition (the value).  \n",
        "\n",
        "Here's a breakdown of how dictionaries store data:\n",
        "\n",
        "- Key-Value Pairs:\n",
        "\n",
        "  Keys: Keys are used to access the values. They must be unique and immutable (meaning they cannot be changed). Common data types used for keys are strings, numbers, and tuples.\n",
        "\n",
        "  Values: Values are the actual data associated with the keys. They can be any Python object, including other dictionaries, lists, or even functions.\n",
        "\n",
        "- Unordered Collection:\n",
        "\n",
        "  Dictionaries are unordered, meaning that the order in which you add key-value pairs is not preserved. You cannot rely on the order of items when you iterate through a dictionary.\n",
        "\n",
        "- Internal Implementation (Hashing):\n",
        "\n",
        "  Dictionaries use a technique called \"hashing\" to store and retrieve data efficiently. When you add a key-value pair, Python calculates a hash value for the key. This hash value is then used to determine where to store the value in memory.\n",
        "\n",
        "  Hashing allows for fast lookups, insertions, and deletions, even when the dictionary contains a large number of items.\n",
        "\n",
        "5.  Why might you use a set instead of a list in Python?\n",
        "  \n",
        "  - You might choose a set over a list in Python primarily for two key reasons: uniqueness and performance (specifically for certain operations).\n",
        "\n",
        " - Ensuring Uniqueness:\n",
        "\n",
        "     Sets, by definition, only store unique elements. If you try to add an element that already exists in the set, it will simply be ignored (no error is raised, but the set remains unchanged).  Lists, on the other hand, can contain duplicate elements.\n",
        "\n",
        "      Use Case:  If you need to keep track of a collection of items where duplicates are not allowed (e.g., unique user IDs, a set of tags, etc.), a set is the perfect choice.  Using a list for this purpose would require extra code to manage uniqueness.\n",
        "\n",
        "       Using a list (requires manual duplicate checking)\n",
        "       my_list = [1, 2, 2, 3, 4, 4, 5]\n",
        "       unique_list = []\n",
        "       for item in my_list:\n",
        "        if item not in unique_list:\n",
        "        unique_list.append(item)\n",
        "        print(unique_list)  # Output: [1, 2, 3, 4, 5]\n",
        "\n",
        "        Using a set (automatic uniqueness)\n",
        "        my_set = {1, 2, 2, 3, 4, 4, 5}\n",
        "        print(my_set)  # Output: {1, 2, 3, 4, 5}  (Order may vary)\n",
        "\n",
        "  - Performance for Certain Operations:\n",
        "\n",
        "     Membership Checking: Checking if an element is present in a set (item in my_set) is significantly faster on average than checking if an element is in a list (item in my_list), especially as the collection grows larger. Sets use hashing for efficient lookups, making membership checks close to constant time (O(1) on average).  Lists require iterating through the elements, resulting in linear time complexity (O(n)).\n",
        "\n",
        "     Set Operations: Sets provide built-in support for common set operations like union, intersection, difference, etc. These operations are often more efficient than manually implementing them using lists.\n",
        "\n",
        "      set1 = {1, 2, 3, 4}\n",
        "      set2 = {3, 4, 5, 6}\n",
        "\n",
        "      print(set1 | set2)  # Union: {1, 2, 3, 4, 5, 6}\n",
        "      print(set1 & set2)  # Intersection: {3, 4}\n",
        "      print(set1 - set2)  # Difference: {1, 2}\n",
        "\n",
        "6.  What is a string in Python, and how is it different from a list?\n",
        "  -  In Python, a string is a sequence of characters.  It's one of the fundamental data types used to represent text.  While both strings and lists are sequence types (meaning you can access elements by index), they have crucial differences:\n",
        "\n",
        " - Immutability:\n",
        "\n",
        "     Strings: Strings are immutable. Once a string is created, you cannot change its individual characters. If you want to modify a string, you must create a new string with the desired changes.\n",
        "\n",
        "     Lists: Lists are mutable. You can modify their elements after they are created (add, remove, or change items).\n",
        "\n",
        "  This is the most significant difference.\n",
        "\n",
        "  - Data Types of Elements:\n",
        "\n",
        "     Strings: Strings can only contain characters (single characters or Unicode characters).\n",
        "\n",
        "     Lists: Lists can contain elements of any data type, including other lists, numbers, strings, booleans, etc. Lists are much more versatile in terms of the types of data they can hold.\n",
        "\n",
        "  - Operations:\n",
        "\n",
        "     Strings: Strings support various string-specific operations like concatenation (+), slicing ([:]), searching (find(), replace()), formatting (format()), and case manipulation (upper(), lower()).\n",
        "\n",
        "     Lists: Lists support operations like appending (append()), inserting (insert()), removing (remove(), pop()), sorting (sort()), and extending (extend()). These operations modify the list in place because lists are mutable.\n",
        "\n",
        "-  Use Cases:\n",
        "\n",
        "     Strings: Strings are used to represent text, such as names, addresses, messages, or any textual data.\n",
        "\n",
        "     Lists: Lists are used to store collections of items where the items can be of different types and may need to be modified. Examples include storing a list of products, a list of numbers, or a combination of different data types.\n",
        "\n",
        "7.  How do tuples ensure data integrity in Python?\n",
        "  -  Tuples ensure data integrity in Python primarily through their immutability.  Let's break down how this works:\n",
        "\n",
        "     Immutability Prevents Accidental Modification: Once a tuple is created, its contents cannot be changed.  You cannot add, remove, or modify individual elements within the tuple. This prevents accidental or unintended alterations to the data, which is crucial for maintaining data integrity.\n",
        "\n",
        "     Data Consistency: Because tuples are immutable, you can be confident that their values will remain consistent throughout your program's execution.  This is especially important when dealing with data that should not be changed, such as configuration settings, database records, or data passed between different parts of a program.\n",
        "\n",
        "     Thread Safety: Immutability makes tuples inherently thread-safe.  In multithreaded environments, where multiple threads might access the same data, immutability ensures that no thread can modify the tuple's contents, preventing race conditions and data corruption.  You can safely share a tuple between threads without needing to implement complex synchronization mechanisms.\n",
        "\n",
        "     Use as Dictionary Keys:  Dictionary keys in Python must be immutable.  This is because the hash value of a key is used to locate the corresponding value in the dictionary. If keys were mutable, their hash values could change, leading to unpredictable behavior and making it impossible to reliably retrieve values. Tuples, being immutable, are frequently used as keys in dictionaries when you need to store composite keys (e.g., using a tuple (x, y) as a key to represent coordinates).\n",
        "\n",
        "     Returning Multiple Values from Functions: Tuples are commonly used to return multiple values from a function. The immutability of the tuple ensures that the returned values are not accidentally modified by the calling function.\n",
        "\n",
        "8.  What is a hash table, and how does it relate to dictionaries in Python?\n",
        "  -  You're right to ask about hash tables! They're a fundamental concept behind how Python dictionaries work. Here's a breakdown:\n",
        "\n",
        " What is a Hash Table?\n",
        "\n",
        "     Imagine you have a huge warehouse full of items, and you need to quickly find any item when given its name. A hash table is like a super-efficient organization system for this warehouse. It uses a special function called a \"hash function\" to assign a unique location (an index) to each item based on its name (the key).\n",
        "\n",
        " Here's how it works:\n",
        "\n",
        "     Hash Function: When you want to store an item, the hash function takes the item's key (e.g., its name) and generates a unique integer, called a \"hash value\" or \"hash code\". This hash value is like the item's warehouse location.\n",
        "\n",
        "     Array Storage: The hash table uses an array (a list-like structure) to store the items. The hash value calculated in the previous step is used as the index in this array where the item is stored.\n",
        "\n",
        "     Retrieval: When you need to find an item, you use the same hash function to calculate the hash value of its key. This gives you the index in the array where the item should be located, allowing for very fast retrieval.  \n",
        "\n",
        "How Does This Relate to Dictionaries in Python?\n",
        "\n",
        "     Python dictionaries are implemented using hash tables. When you create a dictionary, Python internally uses a hash function to map the keys you provide to indices in an array. This allows for efficient storage and retrieval of values based on their keys.     \n",
        "\n",
        "9.  Can lists contain different data types in Python?\n",
        "  -   Yes, absolutely!  One of the powerful features of lists in Python is that\n",
        "       they can contain elements of different data types.  You can mix and match integers, floats, strings, booleans, other lists, tuples, dictionaries, and even functions within the same list.\n",
        "\n",
        " Here are some examples:\n",
        "\n",
        "     mixed_list = [10, \"hello\", 3.14, True, [1, 2, 3], (4, 5), {\"a\": 1, \"b\": 2}, len]\n",
        "\n",
        "   print(mixed_list)\n",
        "    - Output: [10, 'hello', 3.14, True, [1, 2, 3], (4, 5), {'a': 1, 'b': 2}, <built-in function len>]\n",
        "\n",
        "      print(type(mixed_list[0]))   # Output: <class 'int'>\n",
        "      print(type(mixed_list[1]))   # Output: <class 'str'>\n",
        "      print(type(mixed_list[2]))   # Output: <class 'float'>\n",
        "      print(type(mixed_list[3]))   # Output: <class 'bool'>\n",
        "      print(type(mixed_list[4]))   # Output: <class 'list'>\n",
        "      print(type(mixed_list[5]))   # Output: <class 'tuple'>\n",
        "      print(type(mixed_list[6]))   # Output: <class 'dict'>\n",
        "      print(type(mixed_list[7]))   # Output: <class 'builtin_function_or_method'> (function)\n",
        "\n",
        "   As you can see, mixed_list contains an integer, a string, a float, a boolean, another list, a tuple, a dictionary, and even the built-in len function!\n",
        "\n",
        "     This flexibility is one of the reasons lists are so widely used in Python.  It allows you to create data structures that represent complex and heterogeneous collections of information.  For example, you could have a list of user profiles, where each profile is a dictionary containing the user's name (string), age (integer), and email (string).\n",
        "\n",
        "10.  Explain why strings are immutable in Python?\n",
        "   -  Strings in Python are immutable primarily for these reasons:\n",
        "\n",
        "      Performance Optimization:  Immutability allows Python to perform certain optimizations related to memory management.  When you create a string, Python can allocate memory for it once and then reuse that memory if another string with the same value is needed.  This is called \"string interning.\"  If strings were mutable, this optimization would be much more complex to manage, as changing one string could inadvertently affect other strings that share the same memory location.  \n",
        "\n",
        "      Thread Safety: Immutable objects are inherently thread-safe.  In multithreaded environments, multiple threads can safely access and \"read\" a string without worrying about one thread modifying the string while another is using it.  If strings were mutable, you'd need complex locking mechanisms to prevent race conditions and data corruption when multiple threads access and potentially modify the same string. Immutability eliminates this need.\n",
        "\n",
        "      Hashability:  Immutable objects can be used as keys in dictionaries and elements in sets.  These data structures rely on the fact that the hash value of an object (used for fast lookups) remains constant. If strings were mutable, their hash values could change, making them unsuitable for use as dictionary keys or set elements.  This is a crucial requirement, as dictionaries and sets are fundamental data structures.  \n",
        "\n",
        "      Simplified Reasoning and Debugging: Immutability makes code easier to reason about and debug.  When you pass a string to a function, you can be sure that the function won't modify the original string.  This makes your code more predictable and less prone to unexpected side effects.  With mutable objects, you always have to be aware of the possibility that a function might change the object you're passing to it.  \n",
        "\n",
        "      Security: In some contexts, immutability can enhance security.  For example, if a string represents sensitive data (like a password), making it immutable prevents accidental modification of that data.\n",
        "11.  What advantages do dictionaries offer over lists for certain tasks?\n",
        "   -  You're right to ask about the strengths of dictionaries! While lists are\n",
        "      great for ordered collections, dictionaries excel in situations where you need to associate values with unique keys and retrieve them efficiently. Here's a breakdown of the key advantages dictionaries offer:\n",
        "\n",
        "   - Efficient Lookups:\n",
        "\n",
        "      How it works: Dictionaries use a technique called \"hashing\" to store and retrieve data. This allows for very fast lookups, insertions, and deletions, even when the dictionary contains a large number of items.\n",
        "\n",
        "      Why it's better: Imagine you have a list of 1000 names and you want to find someone's age. You'd have to potentially search through the entire list. With a dictionary where names are keys and ages are values, you can access the age directly using the name as a key, which is much faster.\n",
        "\n",
        "  - Key-Value Relationships:\n",
        "\n",
        "        How it works: Dictionaries store data in key-value pairs, where each key is unique and associated with a specific value. This allows you to represent relationships between data elements in a clear and organized way.\n",
        "\n",
        "        Why it's better: Think of a real-world dictionary where you look up a word (key) to find its definition (value). Dictionaries in Python work similarly, making it easy to represent and access data that has a natural key-value relationship.\n",
        "\n",
        "- Unordered Data with Meaningful Identifiers:\n",
        "\n",
        "       How it works: Dictionaries are unordered, but the keys provide meaningful identifiers for the values. This is useful when the order of elements is not important, but you need to access data using descriptive labels.\n",
        "\n",
        "       Why it's better: For example, you might use a dictionary to store information about a person, where the keys are \"name\", \"age\", and \"city\", and the values are the corresponding details. The order of these key-value pairs doesn't matter, but the keys provide a clear way to access the information.\n",
        "\n",
        "- Versatility:\n",
        "\n",
        "      How it works: Dictionaries can store values of any data type, including other dictionaries, lists, and even functions. This makes them highly versatile for representing complex data structures.\n",
        "\n",
        "      Why it's better: You could use a dictionary to represent a student, where the keys are attributes like \"name\", \"grades\", and \"courses\", and the values are the corresponding details, which might be strings, lists, or even other dictionaries.           \n",
        "\n",
        "12.  Describe a scenario where using a tuple would be preferable over a list?\n",
        "  -    Let's consider a scenario where using a tuple would be preferable over a list: Representing geographic coordinates.\n",
        "\n",
        "       Scenario: You're developing a mapping application, and you need to store and manage the latitude and longitude of various locations.\n",
        "\n",
        "Why a tuple is better here:\n",
        "\n",
        "      Immutability: Geographic coordinates (latitude, longitude) for a specific location should generally not be changed after they're recorded.  A location's coordinates are fixed.  Using a tuple enforces this immutability.  If you accidentally tried to modify a coordinate, Python would raise an error, alerting you to the mistake. With a list, you could unintentionally change the coordinates, leading to incorrect data.\n",
        "\n",
        "      Data Integrity: Immutability ensures data integrity.  You can confidently pass a tuple representing coordinates around your code without worrying that some other part of the program will modify the values.  This is crucial for data consistency and reliability.\n",
        "\n",
        "      Use as Dictionary Keys:  In your mapping application, you might want to store additional information about each location (e.g., name, description, address).  You could use a dictionary where the coordinates (latitude, longitude) act as the key, and the other information is the value.  Since dictionary keys must be immutable, tuples are perfect for this purpose.  You couldn't use a list as a dictionary key.\n",
        "\n",
        "      Return Values from Functions: If you have a function that calculates or retrieves coordinates, returning them as a tuple is a good practice. The tuple's immutability guarantees that the returned coordinates won't be altered by the calling function.  \n",
        "13.  How do sets handle duplicate values in Python?\n",
        "   \n",
        "   -   Sets in Python are designed to store only unique elements.  When you attempt to add a duplicate value to a set, the set simply ignores the addition.  No error is raised; the set remains unchanged.\n",
        "\n",
        "   Let's illustrate this:\n",
        "\n",
        "      my_set = {1, 2, 3}\n",
        "\n",
        "      my_set.add(2)  # Adding a duplicate value\n",
        "      print(my_set)    # Output: {1, 2, 3}  (The set remains the same)\n",
        "\n",
        "      my_set.add(4)  # Adding a new, unique value\n",
        "      print(my_set)    # Output: {1, 2, 3, 4} (The set is updated)\n",
        "\n",
        "      my_set.add(2) # Adding another duplicate\n",
        "      print(my_set) # Output: {1, 2, 3, 4} (Still the same)\n",
        "\n",
        "- Another way to create a set, automatically handling duplicates\n",
        "     my_list = [1, 2, 2, 3, 4, 4, 5]\n",
        "     another_set = set(my_list) # duplicates are removed during set creation\n",
        "     print(another_set)  # Output: {1, 2, 3, 4, 5}\n",
        "\n",
        "Explanation:\n",
        "\n",
        "     Uniqueness Enforcement: Sets internally use hashing (similar to dictionaries) to efficiently check for the existence of an element.  When you try to add an element, the set's add() method checks if a value with the same hash already exists.  If it does, the new value is not added.\n",
        "\n",
        "     No Error, No Change:  It's important to note that adding a duplicate element does not raise an error. The add() method simply does nothing if the element is already present.  The set's contents remain exactly as they were before the attempt to add the duplicate.\n",
        "\n",
        "     Creation with Duplicates: When you create a set from an iterable (like a list or tuple) that contains duplicates, the duplicates are automatically removed during the set creation process.  Only the unique values are stored in the resulting set\n",
        "\n",
        "14.  How does the “in” keyword work differently for lists and dictionaries?\n",
        "  \n",
        "  -    You're hitting on a really important distinction in how Python handles\n",
        "       data! The in keyword works quite differently for lists and dictionaries, mainly due to how these data structures are organized internally.\n",
        "\n",
        "For Lists:\n",
        "\n",
        "      Linear Search: When you use in with a list, Python performs a linear search. It iterates through each element in the list, one by one, comparing it to the value you're checking.\n",
        "\n",
        "     Time Complexity: This means the time it takes to check if an element is in a list grows linearly with the size of the list. If your list has 1000 elements, it might take a while to check if a specific value is present. If it has a million elements, it will take much longer.\n",
        "\n",
        "For Dictionaries:\n",
        "\n",
        "     Hash Table Lookup: Dictionaries, as we've discussed, are implemented using hash tables. When you use in with a dictionary, Python uses the key you provide to calculate its hash value. It then uses this hash value to directly access the corresponding location in the hash table where the key (and its associated value) should be stored.\n",
        "\n",
        "     Time Complexity: This makes the lookup process incredibly fast, almost independent of the size of the dictionary. Whether your dictionary has 1000 items or a million, checking for the presence of a key takes roughly the same amount of time.\n",
        "\n",
        "15.  Can you modify the elements of a tuple? Explain why or why not?\n",
        "  \n",
        "  -    No, you cannot directly modify the elements of a tuple in Python. Tuples\n",
        "       are immutable, which means that once a tuple is created, its contents cannot be changed.  You cannot add, remove, or modify individual elements within the tuple.\n",
        "\n",
        "Here's why:\n",
        "\n",
        "      Memory Management: Python can optimize memory allocation for tuples because it knows their size and contents will remain constant. This allows for more efficient storage and retrieval of tuple data. If tuples were mutable, this optimization would be much more complex.\n",
        "\n",
        "      Data Integrity: Immutability ensures data integrity. When you pass a tuple to a function or store it in a data structure, you can be confident that its values will not be changed unexpectedly. This is crucial for maintaining data consistency and preventing bugs.\n",
        "\n",
        "      Thread Safety: Immutable objects are inherently thread-safe. In multithreaded environments, multiple threads can safely access and read a tuple's contents without the risk of data corruption due to concurrent modifications.\n",
        "\n",
        "      Hashability: Immutable objects can be used as keys in dictionaries and elements in sets. These data structures rely on the fact that the hash value of an object remains constant. If tuples were mutable, their hash values could change, making them unsuitable for use as dictionary keys or set elements.\n",
        "\n",
        "16.  What is a nested dictionary, and give an example of its use case?\n",
        "  \n",
        "  -    A nested dictionary is a dictionary where the values associated with  \n",
        "      some keys are themselves dictionaries.  It's a way to represent hierarchical or structured data.  Think of it as a dictionary within a dictionary.\n",
        "\n",
        "Example:\n",
        "\n",
        "student = {\n",
        "    \"name\": \"Alice\",\n",
        "    \"age\": 20,\n",
        "    \"major\": \"Computer Science\",\n",
        "    \"grades\": {\n",
        "        \"math\": 95,\n",
        "        \"science\": 88,\n",
        "        \"english\": 92\n",
        "    },\n",
        "    \"address\": {\n",
        "        \"street\": \"123 Main St\",\n",
        "        \"city\": \"Anytown\",\n",
        "        \"zip\": \"12345\"\n",
        "    }\n",
        "}\n",
        "\n",
        "print(student)\n",
        "\n",
        "          In this example, student is the main dictionary.  The values associated with the keys \"grades\" and \"address\" are also dictionaries.  student[\"grades\"] gives you another dictionary containing the student's grades in different subjects, and student[\"address\"] gives you a dictionary with the address details.\n",
        "\n",
        "Use Cases:\n",
        "\n",
        "         Nested dictionaries are useful in many situations where you have data that has a hierarchical structure or where you need to group related information together.  \n",
        "\n",
        "Here are some common use cases:\n",
        "\n",
        "         Representing Complex Objects: As shown in the example above, nested dictionaries can be used to represent complex objects like students, products, or employees, where each object has multiple attributes, some of which might be complex themselves (like an address or a list of courses).\n",
        "\n",
        "         Storing Hierarchical Data: Nested dictionaries are ideal for storing data that is naturally hierarchical, such as configuration settings, JSON data, or data from XML files.  For example, you might have a configuration file where settings are grouped into categories.\n",
        "\n",
        "         Creating Multidimensional Arrays: While Python doesn't have built-in multidimensional arrays in the same way as some other languages, you can simulate them using nested dictionaries.  For instance, you could represent a matrix using a dictionary where the keys are row numbers and the values are dictionaries representing the columns.\n",
        "\n",
        "         Organizing Data by Categories:  If you need to organize data into different categories and subcategories, nested dictionaries can be very helpful.  For example, you could have a dictionary of books, where the keys are genres (e.g., \"fiction\", \"non-fiction\") and the values are dictionaries containing the books in that genre.\n",
        "         \n",
        "17.   Describe the time complexity of accessing elements in a dictionary?\n",
        "    \n",
        "    -  The time complexity of accessing elements in a Python dictionary is, on  average, O(1), also known as constant time.  This means that the time it takes to retrieve a value from a dictionary is, on average, independent of the number of key-value pairs stored in the dictionary.  It's incredibly fast!\n",
        "\n",
        "Here's why:\n",
        "\n",
        "     Hashing: Dictionaries use hash tables as their underlying implementation. When you insert a key-value pair, Python calculates a hash value for the key using a hash function. This hash value determines the index in the hash table where the value will be stored.\n",
        "\n",
        "     Direct Access: When you want to access a value using its key, Python calculates the hash value of the key again. It then uses this hash value to directly jump to the location in the hash table where the value is stored.  There's no need to search through the entire dictionary.\n",
        "\n",
        "     Constant Time (On Average):  Because of this direct access, the lookup time is, on average, constant.  It takes roughly the same amount of time to find a value in a dictionary with 10 items as it does in a dictionary with 10 million items (again, on average).\n",
        "\n",
        "Important Caveats:\n",
        "\n",
        "     Collisions:  Hash tables can experience \"collisions\" where different keys produce the same hash value.  When a collision occurs, Python uses a secondary mechanism (often linked lists or other techniques) to store multiple key-value pairs at the same location in the hash table. In the worst-case scenario, if there are many collisions, the lookup time can degrade to O(n), where n is the number of keys. However, well-designed hash functions and good distribution of keys make collisions relatively rare in practice.\n",
        "\n",
        "     Amortized Time:  While individual lookups are, on average, O(1), the amortized time complexity for insertions and deletions is also O(1).  Amortized time considers the average time complexity of a sequence of operations, taking into account the occasional more expensive operations (like resizing the hash table when it gets too full).\n",
        "\n",
        "18.  In what situations are lists preferred over dictionaries?\n",
        "  -    Lists are generally preferred over dictionaries in situations where the\n",
        "       following conditions are important:\n",
        "\n",
        "       Order Matters: If the order of elements is crucial and needs to be preserved, lists are the appropriate choice. Dictionaries are unordered (in standard Python versions before 3.7, they were explicitly unordered; since 3.7 they maintain insertion order, but this shouldn't be relied upon for logic). Lists maintain the order in which elements are added.  \n",
        "\n",
        "       Access by Index: If you need to access elements frequently by their numerical index (position), lists are more efficient.  You can directly access my_list[5] to get the sixth element.  While you can technically simulate this with dictionaries using integer keys, it's not their primary strength.\n",
        "\n",
        "       Duplicates Allowed: If you need to store duplicate elements, lists are the way to go. Dictionaries, by definition, require unique keys.\n",
        "\n",
        "       Simpler Data Structure: If your data is simple and doesn't require key-value associations, a list is often a simpler and more straightforward choice.  For example, a list of names, a list of numbers, or a list of items in a queue.\n",
        "\n",
        "       Iteration in Order: If you need to iterate through the elements in a specific order (the order they were added), lists are generally better. While dictionaries in modern Python maintain insertion order, relying on that for program logic isn't best practice.\n",
        "\n",
        "       Small Datasets Where Performance Isn't Critical: For very small datasets, the performance difference between lists and dictionaries might be negligible. In such cases, the simplicity and readability of a list might make it a better choice.\n",
        "\n",
        "       When Mutability is Essential: Both lists and dictionaries are mutable, but the way they are commonly used often points to lists for situations where frequent changes to the sequence itself (insertions, deletions at arbitrary positions) are anticipated.  While you can add and remove keys from dictionaries, lists are often conceptually simpler for ordered sequences that are modified.\n",
        "\n",
        "19.    Why are dictionaries considered unordered, and how does that affect data retrieval?\n",
        "     -   You're right to point out this important characteristic of dictionaries! Here's why they're considered unordered and how it affects data retrieval:\n",
        "\n",
        "   Why Dictionaries are Unordered (Historically):\n",
        "\n",
        "      Hash Table Implementation: Dictionaries are implemented using hash tables. Hash tables are designed for fast key-based lookups, not for maintaining any specific order. The way elements are stored depends on the hash values of the keys, which are not guaranteed to be in any particular sequence.\n",
        "\n",
        "      Focus on Efficiency: The primary goal of dictionaries is to provide efficient key-value lookups (O(1) on average). Maintaining order would add overhead to the insertion and deletion operations, potentially slowing down these core functionalities.\n",
        "\n",
        "   How Unordered Nature Affects Data Retrieval (Historically):\n",
        "\n",
        "      No Guaranteed Order: Before Python 3.7, you could not rely on the order of items when you iterated through a dictionary or when you viewed its contents. The order might seem consistent in some cases, but it was not guaranteed and could vary.\n",
        "\n",
        "      Access by Key: Because dictionaries are unordered, you always access elements by their key, not by their position or index. This reinforces the idea that dictionaries are designed for key-based lookups, not for sequential access.\n",
        "\n",
        "20.    Explain the difference between a list and a dictionary in terms of data retrieval?\n",
        "  -    The key difference between lists and dictionaries in terms of data retrieval lies in how you access the data and the efficiency of that access.\n",
        "\n",
        "   Lists:\n",
        "\n",
        "     Access by Index (Position): You retrieve elements from a list using their numerical index (position). my_list[0] gets the first element, my_list[2] gets the third element, and so on.\n",
        "\n",
        "     Sequential Search (Often): When you search for a specific value in a list (using if value in my_list: or similar), Python often performs a linear search. It starts at the beginning of the list and checks each element one by one until it finds the value (or reaches the end).\n",
        "\n",
        "     Time Complexity (Search): The time complexity of searching a list is, on average, O(n), where n is the number of elements in the list. This means that as the list gets larger, the search time increases proportionally. In the worst case (the value is at the end of the list or not present), you have to check every single element.\n",
        "\n",
        "  Dictionaries:\n",
        "\n",
        "     Access by Key: You retrieve elements from a dictionary using their unique key. my_dict[\"name\"] gets the value associated with the key \"name\".\n",
        "\n",
        "     Hash Table Lookup: Dictionaries use hash tables. When you provide a key, Python calculates a hash value for that key. This hash value is then used to directly locate the corresponding value in the hash table.\n",
        "\n",
        "     Time Complexity (Lookup): The time complexity of looking up a value in a dictionary is, on average, O(1) (constant time). This means that the lookup time is, on average, independent of the size of the dictionary. It takes roughly the same amount of time to find a value in a dictionary with 10 items as it does in a dictionary with 10 million items."
      ],
      "metadata": {
        "id": "Zf68eqeMOnMC"
      }
    }
  ]
}